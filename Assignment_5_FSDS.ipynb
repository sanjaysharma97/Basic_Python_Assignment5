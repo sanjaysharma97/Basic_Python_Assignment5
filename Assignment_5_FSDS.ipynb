{
 "cells": [
  {
   "cell_type": "markdown",
   "id": "e9cb80ff",
   "metadata": {},
   "source": [
    "# 1. What does an empty dictionary's code look like?\n",
    "\n",
    "ANSWER- The empty dictionary's code look like : dict={}\n",
    "                                                type(dict)\n",
    "                                                   \n",
    "                                                   O/P:- dict"
   ]
  },
  {
   "cell_type": "markdown",
   "id": "b56fbd59",
   "metadata": {},
   "source": [
    "# 2. What is the value of a dictionary value with the key 'foo' and the value 42?\n",
    "\n",
    "ANSWER- dict={\"foo\":42}\n",
    "\n",
    "         O/P:- {\"foo\":42}"
   ]
  },
  {
   "cell_type": "markdown",
   "id": "08e4ceaf",
   "metadata": {},
   "source": [
    "# 3. What is the most significant distinction between a dictionary and a list?\n",
    "\n",
    "ANSWER- In list items are in ordered.While in dictionary items are in unordered.\n",
    "        In list we put a elements into a [] and separating them with ',' commas.In dictionary we put a elements into a {} in the form of key-values and separting them with ',' commas.\n",
    "Example:       list[1,2,\"sanjay\"]\n",
    "               dict{\"sanjay\":1,\"ineuron\":2}\n",
    "        "
   ]
  },
  {
   "cell_type": "markdown",
   "id": "2dbeed53",
   "metadata": {},
   "source": [
    "# 4. What happens if you try to access spam['foo'] if spam is {'bar': 100}?\n",
    "\n",
    "ANSWER-It gives us key error."
   ]
  },
  {
   "cell_type": "code",
   "execution_count": 1,
   "id": "1206a297",
   "metadata": {},
   "outputs": [
    {
     "ename": "KeyError",
     "evalue": "'foo'",
     "output_type": "error",
     "traceback": [
      "\u001b[1;31m---------------------------------------------------------------------------\u001b[0m",
      "\u001b[1;31mKeyError\u001b[0m                                  Traceback (most recent call last)",
      "Input \u001b[1;32mIn [1]\u001b[0m, in \u001b[0;36m<cell line: 2>\u001b[1;34m()\u001b[0m\n\u001b[0;32m      1\u001b[0m spam\u001b[38;5;241m=\u001b[39m{\u001b[38;5;124m'\u001b[39m\u001b[38;5;124mbar\u001b[39m\u001b[38;5;124m'\u001b[39m:\u001b[38;5;241m100\u001b[39m}\n\u001b[1;32m----> 2\u001b[0m \u001b[43mspam\u001b[49m\u001b[43m[\u001b[49m\u001b[38;5;124;43m'\u001b[39;49m\u001b[38;5;124;43mfoo\u001b[39;49m\u001b[38;5;124;43m'\u001b[39;49m\u001b[43m]\u001b[49m\n",
      "\u001b[1;31mKeyError\u001b[0m: 'foo'"
     ]
    }
   ],
   "source": [
    "spam={'bar':100}\n",
    "spam['foo']"
   ]
  },
  {
   "cell_type": "markdown",
   "id": "6601dfb8",
   "metadata": {},
   "source": [
    "# 5. If a dictionary is stored in spam, what is the difference between the expressions 'cat' in spam and 'cat' in spam.keys()?\n",
    "\n",
    "ANSWER- Both check is 'cat' is key of the dictionary if yes then return true."
   ]
  },
  {
   "cell_type": "code",
   "execution_count": 3,
   "id": "e086f2db",
   "metadata": {},
   "outputs": [
    {
     "data": {
      "text/plain": [
       "True"
      ]
     },
     "execution_count": 3,
     "metadata": {},
     "output_type": "execute_result"
    }
   ],
   "source": [
    "spam={'cat':500}\n",
    "'cat' in spam"
   ]
  },
  {
   "cell_type": "code",
   "execution_count": 5,
   "id": "b02db8aa",
   "metadata": {},
   "outputs": [
    {
     "data": {
      "text/plain": [
       "True"
      ]
     },
     "execution_count": 5,
     "metadata": {},
     "output_type": "execute_result"
    }
   ],
   "source": [
    "spam={'cat':500}\n",
    "'cat'in spam.keys()"
   ]
  },
  {
   "cell_type": "markdown",
   "id": "ca0e1f94",
   "metadata": {},
   "source": [
    "# 6. If a dictionary is stored in spam, what is the difference between the expressions 'cat' in spam and 'cat' in spam.values()?\n",
    "\n",
    "ANSWER- The difference is it will check 'cat' is present in values or not if yes then it give true otherwise false."
   ]
  },
  {
   "cell_type": "code",
   "execution_count": 6,
   "id": "efbf5839",
   "metadata": {},
   "outputs": [
    {
     "data": {
      "text/plain": [
       "True"
      ]
     },
     "execution_count": 6,
     "metadata": {},
     "output_type": "execute_result"
    }
   ],
   "source": [
    "spam={'cat':500}\n",
    "'cat' in spam"
   ]
  },
  {
   "cell_type": "code",
   "execution_count": 7,
   "id": "360575a4",
   "metadata": {},
   "outputs": [
    {
     "data": {
      "text/plain": [
       "False"
      ]
     },
     "execution_count": 7,
     "metadata": {},
     "output_type": "execute_result"
    }
   ],
   "source": [
    "spam={'cat':500}\n",
    "'cat' in spam.values()"
   ]
  },
  {
   "cell_type": "markdown",
   "id": "4263c2f3",
   "metadata": {},
   "source": [
    "#  7. What is a shortcut for the following code?\n",
    "if 'color' not in spam:\n",
    "spam['color'] ='black'\n",
    "\n",
    "ANSWER-By using setdefault ."
   ]
  },
  {
   "cell_type": "code",
   "execution_count": 8,
   "id": "1399acd8",
   "metadata": {},
   "outputs": [
    {
     "data": {
      "text/plain": [
       "{'ineuron': 10, 'color': 'black'}"
      ]
     },
     "execution_count": 8,
     "metadata": {},
     "output_type": "execute_result"
    }
   ],
   "source": [
    "spam={'ineuron':10}\n",
    "spam.setdefault('color','black')\n",
    "spam"
   ]
  },
  {
   "cell_type": "markdown",
   "id": "5a9e210a",
   "metadata": {},
   "source": [
    "# 8. How do you 'pretty print' dictionary values using which module and function?\n",
    "\n",
    "ANSWER-By using print and pprint."
   ]
  },
  {
   "cell_type": "code",
   "execution_count": 17,
   "id": "7ab8a626",
   "metadata": {},
   "outputs": [],
   "source": [
    "d=[ {'name':'ineuron','location':'banglore','email_id':'ineuron.ai'},\n",
    "   {'name':'sanjay','address':'india','email_id':'sanjay.ai'},\n",
    "   {'name':'piyush','address':'india','email_id':'piyush.ai'}\n",
    "]\n"
   ]
  },
  {
   "cell_type": "code",
   "execution_count": 21,
   "id": "19d5e6bd",
   "metadata": {},
   "outputs": [
    {
     "name": "stdout",
     "output_type": "stream",
     "text": [
      "[{'name': 'ineuron', 'location': 'banglore', 'email_id': 'ineuron.ai'}, {'name': 'sanjay', 'address': 'india', 'email_id': 'sanjay.ai'}, {'name': 'piyush', 'address': 'india', 'email_id': 'piyush.ai'}]\n"
     ]
    }
   ],
   "source": [
    "#printing with print\n",
    "print(d)"
   ]
  },
  {
   "cell_type": "code",
   "execution_count": 24,
   "id": "7fb5ece9",
   "metadata": {},
   "outputs": [
    {
     "name": "stdout",
     "output_type": "stream",
     "text": [
      "[{'email_id': 'ineuron.ai', 'location': 'banglore', 'name': 'ineuron'},\n",
      " {'address': 'india', 'email_id': 'sanjay.ai', 'name': 'sanjay'},\n",
      " {'address': 'india', 'email_id': 'piyush.ai', 'name': 'piyush'}]\n"
     ]
    }
   ],
   "source": [
    "#printing with pprint\n",
    "import pprint#we have to import pprint before going to use it\n",
    "pprint.pprint(d)"
   ]
  },
  {
   "cell_type": "markdown",
   "id": "f751f55f",
   "metadata": {},
   "source": [
    "##############################################################################"
   ]
  }
 ],
 "metadata": {
  "kernelspec": {
   "display_name": "Python 3 (ipykernel)",
   "language": "python",
   "name": "python3"
  },
  "language_info": {
   "codemirror_mode": {
    "name": "ipython",
    "version": 3
   },
   "file_extension": ".py",
   "mimetype": "text/x-python",
   "name": "python",
   "nbconvert_exporter": "python",
   "pygments_lexer": "ipython3",
   "version": "3.9.12"
  }
 },
 "nbformat": 4,
 "nbformat_minor": 5
}
